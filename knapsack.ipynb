{
 "cells": [
  {
   "cell_type": "markdown",
   "metadata": {},
   "source": [
    "# ga for knapsack\n",
    "\n",
    "experiment with:\n",
    "\n",
    "- population size\n",
    "- generations count\n",
    "- prob. crossover\n",
    "- prob. mutation\n",
    "- elite string (`HallOfFame`)\n",
    "- selection\n",
    "    - `selRoulette`\n",
    "    - `selTournament`\n",
    "    - `selRandom`\n",
    "    - rank roulette, modify `selRoulette` input different fitness\n",
    "- fitness variant\n",
    "    - with correction\n",
    "    - with penalization\n",
    "- crossover operator\n",
    "    - `cxOnePoint`\n",
    "    - `cxTwoPoint`\n",
    "    - `cxUniform`"
   ]
  },
  {
   "cell_type": "code",
   "execution_count": 1,
   "metadata": {},
   "outputs": [],
   "source": [
    "import random\n",
    "from matplotlib import pyplot\n",
    "from deap import base, creator, tools\n",
    "from genetic_algorithm import ga\n",
    "from genetic_algorithm.tools import read_instances, read_solutions"
   ]
  },
  {
   "cell_type": "code",
   "execution_count": 2,
   "metadata": {},
   "outputs": [
    {
     "data": {
      "text/plain": [
       "(500, 500)"
      ]
     },
     "execution_count": 2,
     "metadata": {},
     "output_type": "execute_result"
    }
   ],
   "source": [
    "filename = 'data/knap_32.dat'\n",
    "solution_filename = 'data/knap_32.sol.dat'\n",
    "\n",
    "with open(filename) as f:\n",
    "    instances = read_instances(f)\n",
    "with open(solution_filename) as f:\n",
    "    solutions = read_solutions(f)\n",
    "len(instances), len(solutions)"
   ]
  },
  {
   "cell_type": "code",
   "execution_count": 3,
   "metadata": {},
   "outputs": [
    {
     "name": "stdout",
     "output_type": "stream",
     "text": [
      "weights [32, 59, 24, 51, 17, 58, 40, 28, 28, 46, 17, 72, 16, 75, 93, 81, 61, 82, 86, 34, 19, 93, 72, 96, 34, 48, 49, 29, 54, 81, 94, 72]\n",
      "values [460, 194, 353, 243, 381, 164, 56, 149, 494, 364, 391, 361, 5, 346, 82, 87, 75, 178, 218, 450, 311, 431, 303, 111, 341, 105, 46, 317, 174, 317, 106, 77]\n",
      "m 1356\n",
      "solution [1, 1, 1, 1, 1, 1, 1, 1, 1, 1, 1, 1, 0, 1, 0, 1, 0, 1, 1, 1, 1, 1, 1, 1, 1, 1, 0, 1, 1, 1, 0, 0]\n",
      "solution_value 7299\n",
      "n 32\n"
     ]
    }
   ],
   "source": [
    "instance_index = 1\n",
    "instance = instances[instance_index]\n",
    "weights = instance['weights']\n",
    "values = instance['values']\n",
    "m = instance['m']\n",
    "n = instance['n']\n",
    "print('weights', weights)\n",
    "print('values', values)\n",
    "print('m', m)\n",
    "\n",
    "solution = solutions[instance_index]\n",
    "print('solution', solution['solution'])\n",
    "print('solution_value', solution['solution_value'])\n",
    "print('n', solution['n'])"
   ]
  },
  {
   "cell_type": "markdown",
   "metadata": {},
   "source": [
    "## individual and fitness\n",
    "\n",
    "this will be same for all approaches"
   ]
  },
  {
   "cell_type": "code",
   "execution_count": 4,
   "metadata": {},
   "outputs": [],
   "source": [
    "# fitness value is maximalized\n",
    "creator.create('Fitness', base.Fitness, weights=(1,))\n",
    "creator.create('Individual', list, fitness=creator.Fitness)"
   ]
  },
  {
   "cell_type": "code",
   "execution_count": 5,
   "metadata": {},
   "outputs": [],
   "source": [
    "toolbox = base.Toolbox()\n",
    "toolbox.register('attr_item', random.randint, 0, 1)\n",
    "toolbox.register('individual', tools.initRepeat, creator.Individual, toolbox.attr_item, n)\n",
    "toolbox.register('population', tools.initRepeat, list, toolbox.individual)\n",
    "toolbox.register('mate', tools.cxOnePoint)\n",
    "toolbox.register('mutate', tools.mutFlipBit, indpb=0.05)\n",
    "toolbox.register('select', tools.selRoulette)"
   ]
  },
  {
   "cell_type": "code",
   "execution_count": 6,
   "metadata": {},
   "outputs": [],
   "source": [
    "def plot_ga_progress(logbook):\n",
    "    gs = logbook.select('gen')\n",
    "    mins = logbook.select('min')\n",
    "    avgs = logbook.select('avg')\n",
    "    maxs = logbook.select('max')\n",
    "\n",
    "    pyplot.scatter(gs, maxs, label='max')\n",
    "    pyplot.scatter(gs, avgs, label='avg')\n",
    "    pyplot.scatter(gs, mins, label='min')\n",
    "    pyplot.xlabel('generation')\n",
    "    pyplot.ylabel('fitness')\n",
    "    pyplot.legend()"
   ]
  },
  {
   "cell_type": "markdown",
   "metadata": {},
   "source": [
    "## penalization"
   ]
  },
  {
   "cell_type": "code",
   "execution_count": 7,
   "metadata": {
    "scrolled": false
   },
   "outputs": [
    {
     "name": "stdout",
     "output_type": "stream",
     "text": [
      "gen\tmin \tavg    \tmax \n",
      "1  \t2295\t3966.49\t5884\n",
      "2  \t2820\t4224.77\t6118\n",
      "3  \t2783\t4302.35\t6118\n",
      "4  \t-1394\t4178.64\t6118\n",
      "5  \t2288 \t4290.66\t6118\n",
      "6  \t-1368\t4330.22\t6118\n",
      "7  \t2335 \t4623.15\t6118\n",
      "8  \t3057 \t4699.51\t6317\n",
      "9  \t-1365\t4749.69\t6317\n",
      "10 \t3551 \t5015.33\t6317\n",
      "11 \t-1360\t5031.71\t6317\n",
      "12 \t3892 \t5171.31\t6485\n",
      "13 \t-1361\t5049.65\t6485\n",
      "14 \t3963 \t5267.3 \t6580\n",
      "15 \t-1442\t5181.25\t6580\n",
      "16 \t3548 \t5381.65\t6580\n",
      "17 \t3960 \t5525.84\t6599\n",
      "18 \t3761 \t5605.54\t6916\n",
      "19 \t-1403\t5767.32\t6937\n",
      "20 \t4049 \t5934.09\t6937\n",
      "21 \t-1422\t5650.4 \t6937\n",
      "22 \t5170 \t5975.88\t6937\n",
      "23 \t4480 \t6034.13\t6937\n",
      "24 \t4349 \t6086.11\t6937\n",
      "25 \t-1380\t6038.79\t6937\n",
      "26 \t4822 \t6204.57\t6937\n",
      "27 \t-1409\t6063.08\t6937\n",
      "28 \t-1393\t6207.22\t6937\n",
      "29 \t4891 \t6302.88\t6937\n",
      "30 \t4691 \t6333.04\t6937\n",
      "31 \t-1412\t6278   \t6937\n",
      "32 \t5137 \t6325.85\t6937\n",
      "33 \t5137 \t6288.2 \t6937\n",
      "34 \t5137 \t6354.67\t6937\n",
      "35 \t5635 \t6392.87\t6937\n",
      "36 \t5036 \t6412.46\t6937\n",
      "37 \t-1386\t6343.38\t6937\n",
      "38 \t5098 \t6363.05\t7031\n",
      "39 \t4741 \t6329.17\t7031\n",
      "40 \t-1402\t6267.82\t7031\n",
      "41 \t-1375\t6345.12\t7031\n",
      "42 \t-1391\t6263.88\t7031\n",
      "43 \t5570 \t6531.62\t7031\n",
      "44 \t-1403\t6385.58\t7031\n",
      "45 \t5570 \t6555.88\t7031\n",
      "46 \t-1372\t6484.3 \t7031\n",
      "47 \t-1359\t6479.42\t7031\n",
      "48 \t5880 \t6590.23\t7031\n",
      "49 \t5803 \t6621.4 \t7031\n",
      "50 \t5629 \t6597.27\t7031\n",
      "51 \t-1362\t6572.28\t7031\n",
      "52 \t-1406\t6573.45\t7031\n",
      "53 \t6131 \t6687.23\t7031\n",
      "54 \t5932 \t6647.48\t7031\n",
      "55 \t5568 \t6653.65\t7031\n",
      "56 \t-1406\t6280.56\t7031\n",
      "57 \t5816 \t6579.75\t7031\n",
      "58 \t5791 \t6618.5 \t7031\n",
      "59 \t5791 \t6663.91\t7113\n",
      "60 \t-1385\t6530.44\t7113\n",
      "61 \t-1375\t6617.07\t7113\n",
      "62 \t6225 \t6672   \t7113\n",
      "63 \t-1391\t6578.3 \t7113\n",
      "64 \t-1375\t6524.96\t7113\n",
      "65 \t5751 \t6706.22\t7113\n",
      "66 \t5751 \t6711.5 \t7113\n",
      "67 \t-1391\t6578.53\t7113\n",
      "68 \t-1359\t6673.83\t7113\n",
      "69 \t-1434\t6671.91\t7113\n",
      "70 \t-1363\t6566.97\t7113\n",
      "71 \t6194 \t6725.78\t7113\n",
      "72 \t-1358\t6660.28\t7113\n",
      "73 \t5938 \t6726.34\t7113\n",
      "74 \t6124 \t6787.22\t7113\n",
      "75 \t6124 \t6798.83\t7113\n",
      "76 \t6229 \t6784.34\t7113\n",
      "77 \t6229 \t6764.43\t7113\n",
      "78 \t6229 \t6767.56\t7113\n",
      "79 \t6142 \t6765.43\t7113\n",
      "80 \t-1377\t6694.19\t7113\n",
      "81 \t6038 \t6825.3 \t7113\n",
      "82 \t6077 \t6847.45\t7113\n",
      "83 \t6216 \t6866.44\t7113\n",
      "84 \t-1372\t6764.68\t7161\n",
      "85 \t6216 \t6830.75\t7267\n",
      "86 \t-1377\t6782.64\t7267\n",
      "87 \t6216 \t6907.55\t7267\n",
      "88 \t6276 \t6889.23\t7267\n",
      "89 \t6276 \t6877.99\t7267\n",
      "90 \t-1383\t6783.16\t7267\n",
      "91 \t6216 \t6888.01\t7267\n",
      "92 \t-1376\t6813.96\t7267\n",
      "93 \t6459 \t6920.69\t7267\n",
      "94 \t6394 \t6887.41\t7267\n",
      "95 \t6394 \t6913.55\t7267\n",
      "96 \t-1417\t6644.4 \t7267\n",
      "97 \t6419 \t6894.78\t7267\n",
      "98 \t-1359\t6806.35\t7267\n",
      "99 \t-1359\t6833.99\t7267\n",
      "100\t-1359\t6837.69\t7267\n"
     ]
    },
    {
     "data": {
      "text/plain": [
       "(7299, (7267.0,))"
      ]
     },
     "execution_count": 7,
     "metadata": {},
     "output_type": "execute_result"
    },
    {
     "data": {
      "image/png": "[encoded data removed]",
      "text/plain": [
       "<matplotlib.figure.Figure at 0x7f7eee8378d0>"
      ]
     },
     "metadata": {},
     "output_type": "display_data"
    }
   ],
   "source": [
    "toolbox.register('evaluate', ga.evaluate_penalization, weights=weights, values=values, m=m)\n",
    "\n",
    "N_POP = 100\n",
    "N_GEN = 100\n",
    "CXPB = 0.6\n",
    "MUTPB = 0.01\n",
    "\n",
    "population = toolbox.population(n=N_POP)\n",
    "population, logbook, halloffame = ga.genetic_algorithm(\n",
    "    population, toolbox, ngen=N_GEN, cxpb=CXPB, mutpb=MUTPB, elitism=1\n",
    ")\n",
    "\n",
    "plot_ga_progress(logbook)\n",
    "\n",
    "best = halloffame.items[0]\n",
    "solution['solution_value'], halloffame[0].fitness.values"
   ]
  },
  {
   "cell_type": "markdown",
   "metadata": {},
   "source": [
    "## correct indivuduals"
   ]
  },
  {
   "cell_type": "code",
   "execution_count": 8,
   "metadata": {
    "scrolled": false
   },
   "outputs": [
    {
     "name": "stdout",
     "output_type": "stream",
     "text": [
      "gen\tmin \tavg    \tmax \n",
      "1  \t2352\t3960.29\t5864\n",
      "2  \t2203\t4071.34\t5864\n",
      "3  \t2020\t4143.66\t5864\n",
      "4  \t2203\t4208.92\t5986\n",
      "5  \t2288\t4398.04\t6105\n",
      "6  \t2611\t4527.99\t6105\n",
      "7  \t2444\t4626.83\t6105\n",
      "8  \t2403\t4642.83\t6195\n",
      "9  \t2471\t4791.32\t6195\n",
      "10 \t2387\t4897.17\t6195\n",
      "11 \t2387\t4986.65\t6251\n",
      "12 \t2980\t5032.82\t6251\n",
      "13 \t3070\t5208.75\t6251\n",
      "14 \t3147\t5274.09\t6251\n",
      "15 \t3648\t5313.8 \t6320\n",
      "16 \t3648\t5398.55\t6440\n",
      "17 \t3648\t5588.53\t6832\n",
      "18 \t4412\t5595.81\t6832\n",
      "19 \t4774\t5635.09\t6832\n",
      "20 \t4774\t5665.4 \t6832\n",
      "21 \t4486\t5627.45\t6832\n",
      "22 \t4486\t5710.35\t6832\n",
      "23 \t4655\t5787.11\t6832\n",
      "24 \t4320\t5905.44\t6832\n",
      "25 \t4126\t5884.04\t6885\n",
      "26 \t4126\t5835.26\t6890\n",
      "27 \t4171\t5835.51\t6890\n",
      "28 \t4171\t5828.19\t6890\n",
      "29 \t4685\t5881.48\t6940\n",
      "30 \t4481\t5897.88\t6940\n",
      "31 \t4481\t5970   \t6940\n",
      "32 \t4447\t6081.83\t6940\n",
      "33 \t4313\t6050.42\t6940\n",
      "34 \t4313\t6151.88\t6962\n",
      "35 \t4025\t6142.95\t7171\n",
      "36 \t4025\t6129.7 \t7171\n",
      "37 \t3834\t6175.53\t7171\n",
      "38 \t4045\t6229.9 \t7189\n",
      "39 \t4045\t6346.53\t7189\n",
      "40 \t4273\t6370.37\t7189\n",
      "41 \t5218\t6383.56\t7189\n",
      "42 \t5324\t6395.87\t7189\n",
      "43 \t5277\t6476.24\t7189\n",
      "44 \t5734\t6462.89\t7189\n",
      "45 \t5736\t6458.66\t7207\n",
      "46 \t5473\t6429.13\t7207\n",
      "47 \t5385\t6446.69\t7207\n",
      "48 \t4929\t6473.13\t7207\n",
      "49 \t5654\t6500.3 \t7207\n",
      "50 \t5802\t6537.45\t7207\n",
      "51 \t5807\t6609.33\t7207\n",
      "52 \t5761\t6575.2 \t7207\n",
      "53 \t5818\t6593.93\t7207\n",
      "54 \t5900\t6633.6 \t7207\n",
      "55 \t5952\t6639.67\t7207\n",
      "56 \t5928\t6650.18\t7207\n",
      "57 \t5952\t6649.32\t7207\n",
      "58 \t5952\t6654.68\t7207\n",
      "59 \t5952\t6667.09\t7207\n",
      "60 \t5952\t6748.61\t7207\n",
      "61 \t5788\t6713.65\t7207\n",
      "62 \t5788\t6740.37\t7207\n",
      "63 \t6158\t6778.71\t7207\n",
      "64 \t5932\t6785.47\t7207\n",
      "65 \t6158\t6811.32\t7207\n",
      "66 \t6158\t6837.66\t7207\n",
      "67 \t6044\t6870.23\t7207\n",
      "68 \t6110\t6866.45\t7207\n",
      "69 \t6239\t6905.6 \t7207\n",
      "70 \t6342\t6914.49\t7219\n",
      "71 \t6336\t6896.55\t7219\n",
      "72 \t6019\t6909.26\t7219\n",
      "73 \t6077\t6900.26\t7219\n",
      "74 \t6077\t6928.35\t7219\n",
      "75 \t6077\t6968.84\t7219\n",
      "76 \t6249\t6983.61\t7219\n",
      "77 \t5888\t6949.85\t7219\n",
      "78 \t5809\t6897.45\t7219\n",
      "79 \t6046\t6913.96\t7219\n",
      "80 \t5935\t6913.67\t7219\n",
      "81 \t5941\t6881.26\t7219\n",
      "82 \t5941\t6887.21\t7219\n",
      "83 \t6189\t6897.75\t7219\n",
      "84 \t6080\t6851.64\t7219\n",
      "85 \t6080\t6862.95\t7219\n",
      "86 \t5763\t6891.66\t7219\n",
      "87 \t6080\t6958.91\t7263\n",
      "88 \t6423\t6996.6 \t7263\n",
      "89 \t6423\t7015.32\t7263\n",
      "90 \t6452\t7038.34\t7263\n",
      "91 \t6467\t7063.18\t7263\n",
      "92 \t6452\t7040.97\t7263\n",
      "93 \t6260\t7024.9 \t7263\n",
      "94 \t6596\t7060.71\t7263\n",
      "95 \t6353\t7053.86\t7263\n",
      "96 \t6353\t7086.76\t7263\n",
      "97 \t6698\t7086.04\t7263\n",
      "98 \t6576\t7067.87\t7263\n",
      "99 \t6265\t7066.95\t7263\n",
      "100\t6579\t7074.3 \t7263\n"
     ]
    },
    {
     "data": {
      "text/plain": [
       "(7299, (7263.0,))"
      ]
     },
     "execution_count": 8,
     "metadata": {},
     "output_type": "execute_result"
    },
    {
     "data": {
      "image/png": "[encoded data removed]",
      "text/plain": [
       "<matplotlib.figure.Figure at 0x7f7f151bef98>"
      ]
     },
     "metadata": {},
     "output_type": "display_data"
    }
   ],
   "source": [
    "toolbox.register('evaluate', ga.evaluate_correction, weights=weights, values=values, m=m)\n",
    "\n",
    "N_POP = 100\n",
    "N_GEN = 100\n",
    "CXPB = 0.6\n",
    "MUTPB = 0.01\n",
    "\n",
    "population = toolbox.population(n=N_POP)\n",
    "population, logbook, halloffame = ga.genetic_algorithm(\n",
    "    population, toolbox, ngen=N_GEN, cxpb=CXPB, mutpb=MUTPB, elitism=1\n",
    ")\n",
    "\n",
    "plot_ga_progress(logbook)\n",
    "\n",
    "best = halloffame.items[0]\n",
    "solution['solution_value'], halloffame[0].fitness.values"
   ]
  }
 ],
 "metadata": {
  "kernelspec": {
   "display_name": "Python 3",
   "language": "python",
   "name": "python3"
  },
  "language_info": {
   "codemirror_mode": {
    "name": "ipython",
    "version": 3
   },
   "file_extension": ".py",
   "mimetype": "text/x-python",
   "name": "python",
   "nbconvert_exporter": "python",
   "pygments_lexer": "ipython3",
   "version": "3.6.3"
  }
 },
 "nbformat": 4,
 "nbformat_minor": 2
}
