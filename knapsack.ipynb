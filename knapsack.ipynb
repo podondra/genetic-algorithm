{
 "cells": [
  {
   "cell_type": "markdown",
   "metadata": {},
   "source": [
    "# ga for knapsack\n",
    "\n",
    "experiment with:\n",
    "\n",
    "- population size\n",
    "- generations count\n",
    "- prob. crossover\n",
    "- prob. mutation\n",
    "- elite string (`HallOfFame`)\n",
    "- selection\n",
    "    - `selRoulette`\n",
    "    - `selTournament`\n",
    "    - `selRandom`\n",
    "    - rank roulette, modify `selRoulette` input different fitness\n",
    "- fitness variant\n",
    "    - with correction\n",
    "    - with penalization\n",
    "- crossover operator\n",
    "    - `cxOnePoint`\n",
    "    - `cxTwoPoint`\n",
    "    - `cxUniform`"
   ]
  },
  {
   "cell_type": "code",
   "execution_count": 1,
   "metadata": {},
   "outputs": [],
   "source": [
    "import random\n",
    "import numpy\n",
    "from matplotlib import pyplot\n",
    "from genetic_algorithm.tools import read_instances, read_solutions\n",
    "from deap import algorithms, base, creator, tools"
   ]
  },
  {
   "cell_type": "code",
   "execution_count": 2,
   "metadata": {},
   "outputs": [
    {
     "data": {
      "text/plain": [
       "(500, 500)"
      ]
     },
     "execution_count": 2,
     "metadata": {},
     "output_type": "execute_result"
    }
   ],
   "source": [
    "filename = 'data/knap_32.dat'\n",
    "solution_filename = 'data/knap_32.sol.dat'\n",
    "\n",
    "with open(filename) as f:\n",
    "    instances = read_instances(f)\n",
    "with open(solution_filename) as f:\n",
    "    solutions = read_solutions(f)\n",
    "len(instances), len(solutions)"
   ]
  },
  {
   "cell_type": "code",
   "execution_count": 3,
   "metadata": {},
   "outputs": [
    {
     "name": "stdout",
     "output_type": "stream",
     "text": [
      "weights [32, 59, 24, 51, 17, 58, 40, 28, 28, 46, 17, 72, 16, 75, 93, 81, 61, 82, 86, 34, 19, 93, 72, 96, 34, 48, 49, 29, 54, 81, 94, 72]\n",
      "values [460, 194, 353, 243, 381, 164, 56, 149, 494, 364, 391, 361, 5, 346, 82, 87, 75, 178, 218, 450, 311, 431, 303, 111, 341, 105, 46, 317, 174, 317, 106, 77]\n",
      "m 1356\n",
      "solution [1, 1, 1, 1, 1, 1, 1, 1, 1, 1, 1, 1, 0, 1, 0, 1, 0, 1, 1, 1, 1, 1, 1, 1, 1, 1, 0, 1, 1, 1, 0, 0]\n",
      "solution_value 7299\n",
      "n 32\n"
     ]
    }
   ],
   "source": [
    "instance_index = 1\n",
    "instance = instances[instance_index]\n",
    "weights = instance['weights']\n",
    "values = instance['values']\n",
    "m = instance['m']\n",
    "n = instance['n']\n",
    "print('weights', weights)\n",
    "print('values', values)\n",
    "print('m', m)\n",
    "\n",
    "solution = solutions[instance_index]\n",
    "print('solution', solution['solution'])\n",
    "print('solution_value', solution['solution_value'])\n",
    "print('n', solution['n'])"
   ]
  },
  {
   "cell_type": "markdown",
   "metadata": {},
   "source": [
    "## individual and fitness\n",
    "\n",
    "this will be same for all approaches"
   ]
  },
  {
   "cell_type": "code",
   "execution_count": 4,
   "metadata": {},
   "outputs": [],
   "source": [
    "# fitness value is maximalized\n",
    "creator.create('Fitness', base.Fitness, weights=(1,))\n",
    "creator.create('Individual', list, fitness=creator.Fitness)"
   ]
  },
  {
   "cell_type": "code",
   "execution_count": 5,
   "metadata": {},
   "outputs": [],
   "source": [
    "toolbox = base.Toolbox()\n",
    "toolbox.register('attr_item', random.randint, 0, 1)\n",
    "toolbox.register('individual', tools.initRepeat, creator.Individual, toolbox.attr_item, n)\n",
    "toolbox.register('population', tools.initRepeat, list, toolbox.individual)\n",
    "toolbox.register('mate', tools.cxOnePoint)\n",
    "toolbox.register('mutate', tools.mutFlipBit, indpb=0.05)\n",
    "toolbox.register('select', tools.selRoulette)"
   ]
  },
  {
   "cell_type": "code",
   "execution_count": 6,
   "metadata": {},
   "outputs": [],
   "source": [
    "def evaluate_constrain(individual, weights=weights, m=m):\n",
    "    return sum(x * w for x, w in zip(individual, weights)) <= m"
   ]
  },
  {
   "cell_type": "code",
   "execution_count": 7,
   "metadata": {},
   "outputs": [],
   "source": [
    "def plot_ga_progress(logbook):\n",
    "    gs = logbook.select('gen')\n",
    "    mins = logbook.select('min')\n",
    "    avgs = logbook.select('avg')\n",
    "    maxs = logbook.select('max')\n",
    "\n",
    "    pyplot.scatter(gs, maxs, label='max')\n",
    "    pyplot.scatter(gs, avgs, label='avg')\n",
    "    pyplot.scatter(gs, mins, label='min')\n",
    "    pyplot.xlabel('generation')\n",
    "    pyplot.ylabel('fitness')\n",
    "    pyplot.legend()"
   ]
  },
  {
   "cell_type": "markdown",
   "metadata": {},
   "source": [
    "### genetic algorithm"
   ]
  },
  {
   "cell_type": "code",
   "execution_count": 8,
   "metadata": {},
   "outputs": [],
   "source": [
    "def genetic_algorithm(population, toolbox, ngen, cxpb, mutpb, elitism):\n",
    "    # stats\n",
    "    stats = tools.Statistics(lambda individual: individual.fitness.values)\n",
    "    stats.register('avg', numpy.mean)\n",
    "    stats.register('min', numpy.min)\n",
    "    stats.register('max', numpy.max)\n",
    "    # logbook\n",
    "    logbook = tools.Logbook()\n",
    "    logbook.header = ['gen', 'min', 'avg', 'max']\n",
    "    \n",
    "    # evaluate the entire population\n",
    "    fitnesses = map(toolbox.evaluate, population)\n",
    "    for individual, fitness in zip(population, fitnesses):\n",
    "        individual.fitness.values = fitness\n",
    "        \n",
    "    # halloffame\n",
    "    halloffame = tools.HallOfFame(maxsize=elitism)\n",
    "    halloffame.update(population)\n",
    "        \n",
    "    # begin the evolution\n",
    "    for g in range(1, ngen + 1):    \n",
    "        # select the next generation individuals\n",
    "        offspring = toolbox.select(population, k=len(population) - len(halloffame))\n",
    "        # clone the selected individuals\n",
    "        offspring = list(map(toolbox.clone, offspring))\n",
    "\n",
    "        # apply crossover and mutation on the offspring\n",
    "        offspring = algorithms.varAnd(offspring, toolbox, cxpb, mutpb)\n",
    "\n",
    "        # evaluate the individuals with an invalid fitness\n",
    "        invalids = [individual for individual in offspring if not individual.fitness.valid]\n",
    "        fitnesses = map(toolbox.evaluate, invalids)\n",
    "        for individual, fitness in zip(invalids, fitnesses):\n",
    "            individual.fitness.values = fitness\n",
    "\n",
    "        # replace the current population by the offspring\n",
    "        population[:] = offspring + halloffame.items\n",
    "\n",
    "        halloffame.update(population)\n",
    "\n",
    "        # append the current generation statistics to the logbook\n",
    "        record = stats.compile(population)\n",
    "        logbook.record(gen=g, **record)\n",
    "        print(logbook.stream)\n",
    "    \n",
    "    return population, logbook, halloffame"
   ]
  },
  {
   "cell_type": "markdown",
   "metadata": {},
   "source": [
    "## penalization"
   ]
  },
  {
   "cell_type": "code",
   "execution_count": 9,
   "metadata": {
    "scrolled": true
   },
   "outputs": [
    {
     "name": "stdout",
     "output_type": "stream",
     "text": [
      "gen\tmin \tavg    \tmax \n",
      "1  \t2207\t3919.83\t5954\n",
      "2  \t2130\t4060.67\t6116\n",
      "3  \t2130\t4166.51\t6116\n",
      "4  \t2283\t4348.58\t6116\n",
      "5  \t2283\t4445.94\t6116\n",
      "6  \t2378\t4639.79\t6443\n",
      "7  \t2975\t4746.75\t6443\n",
      "8  \t-1452\t4833.22\t6465\n",
      "9  \t3197 \t4940.76\t6465\n",
      "10 \t3710 \t5160.55\t6465\n",
      "11 \t-1359\t5211.62\t6571\n",
      "12 \t3637 \t5502.23\t6867\n",
      "13 \t-1436\t5525.26\t6973\n",
      "14 \t-1411\t5690.12\t6973\n",
      "15 \t-1432\t5710.91\t6973\n",
      "16 \t-1560\t5613.67\t7015\n",
      "17 \t-1416\t5764.75\t7015\n",
      "18 \t4551 \t5862.84\t7015\n",
      "19 \t-1375\t5836.7 \t7015\n",
      "20 \t-1394\t5926.51\t7015\n",
      "21 \t-1365\t6000.5 \t7015\n",
      "22 \t-1442\t5700.08\t7015\n",
      "23 \t-1446\t5957.81\t7015\n",
      "24 \t-1515\t5813.01\t7055\n",
      "25 \t-1446\t5901.36\t7055\n",
      "26 \t-1446\t6080.99\t7055\n",
      "27 \t-1361\t6171.32\t7069\n",
      "28 \t5029 \t6258.46\t7069\n",
      "29 \t5218 \t6378.41\t7069\n",
      "30 \t-1446\t6364.22\t7069\n",
      "31 \t-1405\t6187.41\t7069\n",
      "32 \t5503 \t6517.26\t7069\n",
      "33 \t-1410\t6370.13\t7069\n",
      "34 \t-1406\t6341.34\t7069\n",
      "35 \t-1390\t6146.96\t7069\n",
      "36 \t-1362\t6190.26\t7069\n",
      "37 \t-1362\t6387.85\t7069\n",
      "38 \t-1431\t5983.07\t7141\n",
      "39 \t-1455\t5938.34\t7141\n",
      "40 \t-1381\t6073.55\t7141\n",
      "41 \t-1365\t6349.85\t7141\n",
      "42 \t-1372\t6327.76\t7141\n",
      "43 \t-1403\t6138.36\t7141\n",
      "44 \t-1442\t5742.55\t7141\n",
      "45 \t-1391\t6247.7 \t7141\n",
      "46 \t-1492\t6020.86\t7141\n",
      "47 \t-1396\t6323.08\t7141\n",
      "48 \t-1415\t6154.84\t7146\n",
      "49 \t-1361\t6378.88\t7146\n",
      "50 \t-1369\t6393.69\t7146\n",
      "51 \t-1425\t6282.02\t7146\n",
      "52 \t-1365\t6339.36\t7146\n",
      "53 \t-1423\t6288.48\t7146\n",
      "54 \t-1374\t6450.25\t7146\n",
      "55 \t-1375\t6222.21\t7146\n",
      "56 \t-1447\t6310.01\t7146\n",
      "57 \t-1447\t6265.86\t7146\n",
      "58 \t6042 \t6609.68\t7146\n",
      "59 \t-1447\t6383.5 \t7146\n",
      "60 \t-1367\t6576.44\t7146\n",
      "61 \t-1391\t6597.5 \t7146\n",
      "62 \t-1407\t6525.89\t7146\n",
      "63 \t-1391\t6556.02\t7146\n",
      "64 \t-1426\t6615.48\t7146\n",
      "65 \t6237 \t6717.5 \t7146\n",
      "66 \t-1407\t6571.93\t7146\n",
      "67 \t-1368\t6602.24\t7146\n",
      "68 \t-1391\t6467.63\t7146\n",
      "69 \t-1442\t6636.99\t7146\n",
      "70 \t-1447\t6154.26\t7146\n",
      "71 \t-1442\t6411.88\t7146\n",
      "72 \t5801 \t6760.21\t7146\n",
      "73 \t-1447\t6525.25\t7146\n",
      "74 \t-1383\t6548.2 \t7146\n",
      "75 \t-1407\t6565.31\t7146\n",
      "76 \t-1407\t6577.02\t7146\n",
      "77 \t-1447\t6570.61\t7146\n",
      "78 \t-1442\t6490.6 \t7146\n",
      "79 \t-1378\t6747.44\t7146\n",
      "80 \t-1383\t6759.41\t7146\n",
      "81 \t-1431\t6665.25\t7146\n",
      "82 \t-1447\t6473.1 \t7146\n",
      "83 \t-1446\t6658.7 \t7146\n",
      "84 \t6514 \t6853   \t7146\n",
      "85 \t6514 \t6886.36\t7146\n",
      "86 \t-1393\t6721.65\t7146\n",
      "87 \t6204 \t6878.49\t7146\n",
      "88 \t6204 \t6878.52\t7146\n",
      "89 \t-1383\t6711.31\t7146\n",
      "90 \t6398 \t6898.05\t7146\n",
      "91 \t6398 \t6889.13\t7146\n",
      "92 \t5886 \t6894.76\t7146\n",
      "93 \t5885 \t6851.91\t7146\n",
      "94 \t5780 \t6832.38\t7146\n",
      "95 \t5943 \t6850.61\t7146\n",
      "96 \t5943 \t6871.4 \t7146\n",
      "97 \t-1367\t6776.35\t7146\n",
      "98 \t5291 \t6850.68\t7146\n",
      "99 \t5995 \t6885.71\t7146\n",
      "100\t5995 \t6908.9 \t7146\n"
     ]
    },
    {
     "data": {
      "text/plain": [
       "(7299, (7146.0,))"
      ]
     },
     "execution_count": 9,
     "metadata": {},
     "output_type": "execute_result"
    },
    {
     "data": {
      "image/png": "[encoded data removed]",
      "text/plain": [
       "<matplotlib.figure.Figure at 0x7f7f3a519f28>"
      ]
     },
     "metadata": {},
     "output_type": "display_data"
    }
   ],
   "source": [
    "def evaluate_penalization(individual, weights=weights, values=values, m=m):\n",
    "    total_weight = 0\n",
    "    total_value = 0\n",
    "    for x, weight, value in zip(individual, weights, values):\n",
    "        total_weight += x * weight\n",
    "        total_value += x * value\n",
    "    if total_weight > m:\n",
    "        return -total_weight,\n",
    "    return total_value,\n",
    "\n",
    "toolbox.register('evaluate', evaluate_penalization, weights=weights, values=values, m=m)\n",
    "\n",
    "N_POP = 100\n",
    "N_GEN = 100\n",
    "CXPB = 0.6\n",
    "MUTPB = 0.01\n",
    "\n",
    "population = toolbox.population(n=N_POP)\n",
    "population, logbook, halloffame = genetic_algorithm(\n",
    "    population, toolbox, ngen=N_GEN, cxpb=CXPB, mutpb=MUTPB, elitism=1\n",
    ")\n",
    "\n",
    "plot_ga_progress(logbook)\n",
    "\n",
    "best = halloffame.items[0]\n",
    "solution['solution_value'], halloffame[0].fitness.values"
   ]
  },
  {
   "cell_type": "markdown",
   "metadata": {},
   "source": [
    "## correct indivuduals"
   ]
  },
  {
   "cell_type": "code",
   "execution_count": 10,
   "metadata": {},
   "outputs": [
    {
     "name": "stdout",
     "output_type": "stream",
     "text": [
      "gen\tmin \tavg    \tmax \n",
      "1  \t2171\t3998.31\t6156\n",
      "2  \t2499\t4253.84\t6156\n",
      "3  \t2437\t4526.8 \t6156\n",
      "4  \t2437\t4595.15\t6156\n",
      "5  \t2503\t4679.41\t6156\n",
      "6  \t3205\t4869.99\t6156\n",
      "7  \t2861\t4892.64\t6413\n",
      "8  \t3370\t5008.12\t6428\n",
      "9  \t3605\t5114.5 \t6428\n",
      "10 \t3443\t5210.79\t6774\n",
      "11 \t3782\t5421.77\t6774\n",
      "12 \t3782\t5628.89\t6774\n",
      "13 \t3782\t5772.69\t6931\n",
      "14 \t4268\t5852.99\t6931\n",
      "15 \t4383\t5937.79\t6931\n",
      "16 \t3645\t5899.11\t6931\n",
      "17 \t4269\t5997.93\t6931\n",
      "18 \t4631\t6014.66\t6931\n",
      "19 \t4631\t6032.68\t7083\n",
      "20 \t4631\t6175.62\t7083\n",
      "21 \t5053\t6277.5 \t7088\n",
      "22 \t4985\t6200.57\t7088\n",
      "23 \t4985\t6193.85\t7088\n",
      "24 \t4573\t6227.89\t7088\n",
      "25 \t4573\t6332.77\t7088\n",
      "26 \t4796\t6425.17\t7088\n",
      "27 \t4796\t6477.28\t7136\n",
      "28 \t4796\t6497   \t7136\n",
      "29 \t5672\t6473.14\t7136\n",
      "30 \t5630\t6519.49\t7136\n",
      "31 \t5630\t6526.36\t7136\n",
      "32 \t5570\t6544.31\t7147\n",
      "33 \t5373\t6540.62\t7188\n",
      "34 \t5620\t6518.78\t7188\n",
      "35 \t5626\t6531.8 \t7188\n",
      "36 \t5626\t6546.45\t7188\n",
      "37 \t5694\t6566.12\t7188\n",
      "38 \t5791\t6606.71\t7188\n",
      "39 \t5388\t6601.9 \t7188\n",
      "40 \t5683\t6603.68\t7188\n",
      "41 \t5676\t6605.17\t7188\n",
      "42 \t5869\t6622.86\t7188\n",
      "43 \t5869\t6648.54\t7188\n",
      "44 \t5973\t6682.98\t7250\n",
      "45 \t5767\t6672.15\t7250\n",
      "46 \t5767\t6746.93\t7250\n",
      "47 \t5648\t6745.35\t7250\n",
      "48 \t5648\t6759.09\t7250\n",
      "49 \t6017\t6729.41\t7250\n",
      "50 \t6039\t6786.65\t7250\n",
      "51 \t5814\t6822.53\t7250\n",
      "52 \t5814\t6810.7 \t7250\n",
      "53 \t5814\t6796.43\t7250\n",
      "54 \t5814\t6753.07\t7250\n",
      "55 \t5988\t6784.67\t7250\n",
      "56 \t6097\t6777.16\t7250\n",
      "57 \t5988\t6807.23\t7250\n",
      "58 \t5826\t6810.96\t7255\n",
      "59 \t5826\t6768.51\t7255\n",
      "60 \t5826\t6732.01\t7255\n",
      "61 \t5826\t6688.98\t7255\n",
      "62 \t5826\t6752.02\t7255\n",
      "63 \t6024\t6775.82\t7255\n",
      "64 \t6089\t6775.89\t7255\n",
      "65 \t5930\t6776.08\t7255\n",
      "66 \t5613\t6789.63\t7255\n",
      "67 \t5613\t6787.67\t7255\n",
      "68 \t5806\t6817.23\t7255\n",
      "69 \t5489\t6813.17\t7255\n",
      "70 \t5617\t6873.13\t7255\n",
      "71 \t5617\t6864.42\t7255\n",
      "72 \t5617\t6886.85\t7255\n",
      "73 \t5617\t6893.4 \t7255\n",
      "74 \t5617\t6923.64\t7255\n",
      "75 \t5776\t6871.17\t7255\n",
      "76 \t5904\t6898.54\t7255\n",
      "77 \t5904\t6879.26\t7255\n",
      "78 \t5587\t6903.11\t7255\n",
      "79 \t5587\t6890.71\t7255\n",
      "80 \t5520\t6913.62\t7255\n",
      "81 \t6098\t6950.34\t7255\n",
      "82 \t6098\t6972.84\t7255\n",
      "83 \t6303\t6963.69\t7255\n",
      "84 \t6167\t6976.83\t7255\n",
      "85 \t6401\t6991.79\t7255\n",
      "86 \t6325\t6966.43\t7255\n",
      "87 \t6234\t6959.71\t7255\n",
      "88 \t6021\t6972.2 \t7255\n",
      "89 \t6077\t7012.15\t7255\n",
      "90 \t5969\t6990.7 \t7255\n",
      "91 \t5969\t7030.34\t7255\n",
      "92 \t5997\t7007.94\t7255\n",
      "93 \t6108\t7001.16\t7255\n",
      "94 \t6108\t6973.54\t7255\n",
      "95 \t6220\t6984.39\t7255\n",
      "96 \t6285\t6965.55\t7255\n",
      "97 \t6121\t6938.89\t7255\n",
      "98 \t6220\t6924.15\t7255\n",
      "99 \t6011\t6947.89\t7255\n",
      "100\t6269\t6928.32\t7255\n"
     ]
    },
    {
     "data": {
      "text/plain": [
       "(7299, (7255.0,))"
      ]
     },
     "execution_count": 10,
     "metadata": {},
     "output_type": "execute_result"
    },
    {
     "data": {
      "image/png": "[encoded data removed]",
      "text/plain": [
       "<matplotlib.figure.Figure at 0x7f7f3a502160>"
      ]
     },
     "metadata": {},
     "output_type": "display_data"
    }
   ],
   "source": [
    "def correct_individual(individual, weights=weights, m=m):\n",
    "    while evaluate_constrain(individual, weights, m) is False:\n",
    "        indexes = [index for index, x in enumerate(individual) if x]\n",
    "        individual[random.choice(indexes)] = 0\n",
    "    return individual\n",
    "\n",
    "def evaluate_correction(individual, values=values):\n",
    "    individual = correct_individual(individual)\n",
    "    total_value = 0\n",
    "    for x, value in zip(individual, values):\n",
    "        total_value += x * value\n",
    "    return total_value,\n",
    "\n",
    "toolbox.register('evaluate', evaluate_correction, values=values)\n",
    "\n",
    "N_POP = 100\n",
    "N_GEN = 100\n",
    "CXPB = 0.6\n",
    "MUTPB = 0.01\n",
    "\n",
    "population = toolbox.population(n=N_POP)\n",
    "population, logbook, halloffame = genetic_algorithm(\n",
    "    population, toolbox, ngen=N_GEN, cxpb=CXPB, mutpb=MUTPB, elitism=1\n",
    ")\n",
    "\n",
    "plot_ga_progress(logbook)\n",
    "\n",
    "best = halloffame.items[0]\n",
    "solution['solution_value'], halloffame[0].fitness.values"
   ]
  }
 ],
 "metadata": {
  "kernelspec": {
   "display_name": "Python 3",
   "language": "python",
   "name": "python3"
  },
  "language_info": {
   "codemirror_mode": {
    "name": "ipython",
    "version": 3
   },
   "file_extension": ".py",
   "mimetype": "text/x-python",
   "name": "python",
   "nbconvert_exporter": "python",
   "pygments_lexer": "ipython3",
   "version": "3.6.3"
  }
 },
 "nbformat": 4,
 "nbformat_minor": 2
}
