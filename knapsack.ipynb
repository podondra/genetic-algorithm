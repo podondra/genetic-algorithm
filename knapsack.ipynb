{
 "cells": [
  {
   "cell_type": "markdown",
   "metadata": {},
   "source": [
    "# ga for knapsack\n",
    "\n",
    "experiment with:\n",
    "\n",
    "- population size (linear growth)\n",
    "- generations count\n",
    "- prob. crossover\n",
    "- prob. mutation\n",
    "- elite string (`HallOfFame`)\n",
    "- selection\n",
    "    - `selRoulette`\n",
    "    - universal stochastic sampling\n",
    "    - linear scaling\n",
    "    - rank roulette, modify `selRoulette` input different fitness\n",
    "    - `selTournament`\n",
    "    - `selRandom`\n",
    "- fitness variant\n",
    "    - with correction, decoder\n",
    "    - with penalization\n",
    "- crossover operator\n",
    "    - `cxOnePoint`\n",
    "    - `cxTwoPoint`\n",
    "    - `cxUniform`\n",
    "- inversion?\n",
    "- truncation selection?\n",
    "- stop criteria (change in average fitness, standart deviation)"
   ]
  },
  {
   "cell_type": "code",
   "execution_count": 1,
   "metadata": {},
   "outputs": [],
   "source": [
    "import glob\n",
    "import random\n",
    "import pandas\n",
    "from matplotlib import pyplot\n",
    "from deap import base, creator, tools\n",
    "from genetic_algorithm import ga\n",
    "from genetic_algorithm.tools import read_instances, relative_error, plot_ga_progress"
   ]
  },
  {
   "cell_type": "code",
   "execution_count": 2,
   "metadata": {},
   "outputs": [],
   "source": [
    "instance_sizes = [32, 35, 37, 40, 50, 75, 100, 150, 200, 500]\n",
    "paths = [('data/knap_{}.dat'.format(s), 'data/knap_{}.sol'.format(s)) for s in instance_sizes]\n",
    "instances = read_instances(paths)"
   ]
  },
  {
   "cell_type": "code",
   "execution_count": 3,
   "metadata": {},
   "outputs": [
    {
     "data": {
      "text/plain": [
       "m                                                          91\n",
       "weights     [54, 68, 83, 55, 12, 30, 97, 96, 63, 91, 52, 5...\n",
       "values      [347, 208, 2, 17, 217, 328, 481, 2, 337, 456, ...\n",
       "value                                                    1920\n",
       "solution    [0, 0, 0, 0, 1, 1, 0, 0, 0, 0, 0, 0, 1, 1, 0, ...\n",
       "Name: (40, 0), dtype: object"
      ]
     },
     "execution_count": 3,
     "metadata": {},
     "output_type": "execute_result"
    }
   ],
   "source": [
    "instances.loc[40, 0]"
   ]
  },
  {
   "cell_type": "code",
   "execution_count": 4,
   "metadata": {},
   "outputs": [
    {
     "name": "stdout",
     "output_type": "stream",
     "text": [
      "n\t 40\n",
      "weights\t [54, 68, 83, 55, 12, 30, 97, 96, 63, 91, 52, 55, 8, 6, 96, 46, 55, 14, 65, 94, 52, 40, 12, 89, 38, 24, 88, 89, 40, 86, 66, 61, 11, 33, 77, 46, 97, 6, 16, 84]\n",
      "values\t [347, 208, 2, 17, 217, 328, 481, 2, 337, 456, 410, 293, 456, 258, 458, 301, 373, 219, 70, 261, 385, 209, 172, 310, 99, 228, 78, 241, 85, 341, 235, 289, 59, 303, 2, 422, 419, 37, 442, 169]\n",
      "m\t 91\n",
      "solution [0, 0, 0, 0, 1, 1, 0, 0, 0, 0, 0, 0, 1, 1, 0, 0, 0, 1, 0, 0, 0, 0, 0, 0, 0, 0, 0, 0, 0, 0, 0, 0, 0, 0, 0, 0, 0, 0, 1, 0]\n",
      "value\t 1920\n"
     ]
    }
   ],
   "source": [
    "instance = instances.loc[40, 0]\n",
    "print('n\\t', instance.name[0])\n",
    "print('weights\\t', instance['weights'])\n",
    "print('values\\t', instance['values'])\n",
    "print('m\\t', instance['m'])\n",
    "print('solution', instance['solution'])\n",
    "print('value\\t', instance['value'])"
   ]
  },
  {
   "cell_type": "markdown",
   "metadata": {},
   "source": [
    "## individual and fitness\n",
    "\n",
    "this will be same for all approaches"
   ]
  },
  {
   "cell_type": "code",
   "execution_count": 5,
   "metadata": {
    "scrolled": true
   },
   "outputs": [],
   "source": [
    "# fitness value is maximalized\n",
    "creator.create('Fitness', base.Fitness, weights=(1,))\n",
    "creator.create('Individual', list, fitness=creator.Fitness)"
   ]
  },
  {
   "cell_type": "markdown",
   "metadata": {},
   "source": [
    "## correct indivuduals"
   ]
  },
  {
   "cell_type": "code",
   "execution_count": 6,
   "metadata": {
    "scrolled": false
   },
   "outputs": [
    {
     "name": "stdout",
     "output_type": "stream",
     "text": [
      "[0, 0, 0, 0, 1, 0, 0, 0, 0, 0, 0, 0, 1, 1, 0, 0, 0, 1, 0, 0, 0, 0, 0, 0, 0, 1, 0, 0, 0, 0, 0, 0, 1, 0, 0, 0, 0, 0, 1, 0]\n",
      "[0, 0, 0, 0, 1, 1, 0, 0, 0, 0, 0, 0, 1, 1, 0, 0, 0, 1, 0, 0, 0, 0, 0, 0, 0, 0, 0, 0, 0, 0, 0, 0, 0, 0, 0, 0, 0, 0, 1, 0]\n"
     ]
    },
    {
     "data": {
      "text/plain": [
       "(1920, 1879.0, 0.021354166666666667)"
      ]
     },
     "execution_count": 6,
     "metadata": {},
     "output_type": "execute_result"
    },
    {
     "data": {
      "image/png": "[encoded data removed]",
      "text/plain": [
       "<matplotlib.figure.Figure at 0x7f63865ea390>"
      ]
     },
     "metadata": {},
     "output_type": "display_data"
    }
   ],
   "source": [
    "N_POP = 100\n",
    "CXPB = 0.6\n",
    "INDPB = 0.001\n",
    "\n",
    "toolbox = base.Toolbox()\n",
    "toolbox.register('attr_item', random.randint, 0, 1)\n",
    "toolbox.register('individual', tools.initRepeat, creator.Individual, toolbox.attr_item, instance.name[0])\n",
    "toolbox.register('population', tools.initRepeat, list, toolbox.individual)\n",
    "toolbox.register('mate', tools.cxTwoPoint)\n",
    "toolbox.register('mutate', tools.mutFlipBit, indpb=INDPB)\n",
    "toolbox.register('select', tools.selRoulette)\n",
    "toolbox.register('evaluate', ga.evaluate_correction, weights=instance['weights'],\n",
    "                 values=instance['values'], m=instance['m'])\n",
    "\n",
    "population = toolbox.population(n=N_POP)\n",
    "population, logbook, halloffame = ga.genetic_algorithm(\n",
    "    population, toolbox, early_stop=(1, 50), cxpb=CXPB, mutpb=1, elitism=1\n",
    ")\n",
    "\n",
    "plot_ga_progress(logbook, instance['value'])\n",
    "\n",
    "best = halloffame[0]\n",
    "print(best)\n",
    "print(instance['solution'])\n",
    "c_apx = best.fitness.values[0]\n",
    "instance['value'], c_apx, relative_error(instance['value'], c_apx)"
   ]
  },
  {
   "cell_type": "markdown",
   "metadata": {},
   "source": [
    "## penalization"
   ]
  },
  {
   "cell_type": "code",
   "execution_count": 7,
   "metadata": {
    "scrolled": false
   },
   "outputs": [
    {
     "name": "stdout",
     "output_type": "stream",
     "text": [
      "[0, 0, 0, 0, 1, 0, 0, 0, 0, 0, 0, 0, 1, 1, 0, 0, 0, 1, 0, 0, 0, 0, 0, 0, 0, 1, 0, 0, 0, 0, 0, 0, 1, 0, 0, 0, 0, 0, 1, 0]\n",
      "[0, 0, 0, 0, 1, 1, 0, 0, 0, 0, 0, 0, 1, 1, 0, 0, 0, 1, 0, 0, 0, 0, 0, 0, 0, 0, 0, 0, 0, 0, 0, 0, 0, 0, 0, 0, 0, 0, 1, 0]\n"
     ]
    },
    {
     "data": {
      "text/plain": [
       "(1920, 1875.0, 0.0234375)"
      ]
     },
     "execution_count": 7,
     "metadata": {},
     "output_type": "execute_result"
    },
    {
     "data": {
      "image/png": "[encoded data removed]",
      "text/plain": [
       "<matplotlib.figure.Figure at 0x7f6386107390>"
      ]
     },
     "metadata": {},
     "output_type": "display_data"
    }
   ],
   "source": [
    "N_POP = 100\n",
    "CXPB = 0.6\n",
    "INDPB = 0.001\n",
    "\n",
    "toolbox = base.Toolbox()\n",
    "toolbox.register('attr_item', random.randint, 0, 1)\n",
    "toolbox.register('individual', tools.initRepeat, creator.Individual, toolbox.attr_item, instance.name[0])\n",
    "toolbox.register('population', tools.initRepeat, list, toolbox.individual)\n",
    "toolbox.register('mate', tools.cxTwoPoint)\n",
    "toolbox.register('mutate', tools.mutFlipBit, indpb=INDPB)\n",
    "toolbox.register('select', tools.selRoulette)\n",
    "toolbox.register('evaluate', ga.evaluate_penalization, weights=instance['weights'],\n",
    "                 values=instance['values'], m=instance['m'])\n",
    "\n",
    "\n",
    "population = toolbox.population(n=N_POP)\n",
    "population, logbook, halloffame = ga.genetic_algorithm(\n",
    "    population, toolbox, early_stop=(1, 50), cxpb=CXPB, mutpb=1, elitism=1\n",
    ")\n",
    "\n",
    "plot_ga_progress(logbook, instance['value'])\n",
    "print(best)\n",
    "print(instance['solution'])\n",
    "c_apx = halloffame[0].fitness.values[0]\n",
    "instance['value'], c_apx, relative_error(instance['value'], c_apx)"
   ]
  }
 ],
 "metadata": {
  "kernelspec": {
   "display_name": "Python 3",
   "language": "python",
   "name": "python3"
  },
  "language_info": {
   "codemirror_mode": {
    "name": "ipython",
    "version": 3
   },
   "file_extension": ".py",
   "mimetype": "text/x-python",
   "name": "python",
   "nbconvert_exporter": "python",
   "pygments_lexer": "ipython3",
   "version": "3.6.3"
  }
 },
 "nbformat": 4,
 "nbformat_minor": 2
}
