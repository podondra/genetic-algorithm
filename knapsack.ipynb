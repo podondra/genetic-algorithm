{
 "cells": [
  {
   "cell_type": "markdown",
   "metadata": {},
   "source": [
    "# ga for knapsack\n",
    "\n",
    "experiment with:\n",
    "\n",
    "- population size (linear growth)\n",
    "- generations count\n",
    "- prob. crossover\n",
    "- prob. mutation\n",
    "- elite string (`HallOfFame`)\n",
    "- selection\n",
    "    - `selRoulette`\n",
    "    - universal stochastic sampling\n",
    "    - linear scaling\n",
    "    - rank roulette, modify `selRoulette` input different fitness\n",
    "    - `selTournament`\n",
    "    - `selRandom`\n",
    "- fitness variant\n",
    "    - with correction, decoder\n",
    "    - with penalization\n",
    "- crossover operator\n",
    "    - `cxOnePoint`\n",
    "    - `cxTwoPoint`\n",
    "    - `cxUniform`\n",
    "- inversion?\n",
    "- truncation selection?\n",
    "- stop criteria (change in average fitness, standart deviation)"
   ]
  },
  {
   "cell_type": "code",
   "execution_count": 1,
   "metadata": {},
   "outputs": [],
   "source": [
    "import ast\n",
    "import glob\n",
    "import time\n",
    "import random\n",
    "import pandas\n",
    "from matplotlib import pyplot\n",
    "from deap import base, creator, tools\n",
    "from genetic_algorithm import ga\n",
    "from genetic_algorithm.tools import read_instances, relative_error, plot_ga_progress"
   ]
  },
  {
   "cell_type": "code",
   "execution_count": 2,
   "metadata": {},
   "outputs": [],
   "source": [
    "generic = lambda x: ast.literal_eval(x)\n",
    "converters = {\n",
    "    'weights': generic,\n",
    "    'values': generic,\n",
    "    'solution': generic\n",
    "}\n",
    "instances = pandas.read_csv('data/instances_sample.csv', index_col=[0, 1], converters=converters)\n",
    "instances.index.names = [None, None]"
   ]
  },
  {
   "cell_type": "code",
   "execution_count": 3,
   "metadata": {},
   "outputs": [
    {
     "name": "stdout",
     "output_type": "stream",
     "text": [
      "n\t 40\n",
      "weights\t [46, 3, 70, 74, 26, 22, 75, 21, 22, 74, 60, 34, 21, 69, 23, 46, 94, 71, 76, 54, 43, 59, 91, 5, 17, 54, 13, 79, 33, 42, 59, 56, 75, 90, 31, 70, 82, 42, 84, 48]\n",
      "values\t [234, 90, 178, 75, 450, 415, 496, 294, 7, 398, 469, 488, 159, 394, 464, 187, 25, 216, 361, 406, 498, 347, 433, 247, 260, 88, 497, 257, 70, 301, 175, 405, 485, 439, 244, 480, 199, 332, 113, 112]\n",
      "m\t 162\n",
      "solution [0, 0, 0, 0, 1, 1, 0, 1, 0, 0, 0, 1, 0, 0, 1, 0, 0, 0, 0, 0, 0, 0, 0, 1, 1, 0, 1, 0, 0, 0, 0, 0, 0, 0, 0, 0, 0, 0, 0, 0]\n",
      "value\t 3115\n"
     ]
    }
   ],
   "source": [
    "instance = instances.loc[40, 7]\n",
    "print('n\\t', instance.name[0])\n",
    "print('weights\\t', instance['weights'])\n",
    "print('values\\t', instance['values'])\n",
    "print('m\\t', instance['m'])\n",
    "print('solution', instance['solution'])\n",
    "print('value\\t', instance['value'])"
   ]
  },
  {
   "cell_type": "markdown",
   "metadata": {},
   "source": [
    "## individual and fitness\n",
    "\n",
    "this will be same for all approaches"
   ]
  },
  {
   "cell_type": "code",
   "execution_count": 4,
   "metadata": {
    "scrolled": true
   },
   "outputs": [],
   "source": [
    "# fitness value is maximalized\n",
    "creator.create('Fitness', base.Fitness, weights=(1,))\n",
    "creator.create('Individual', list, fitness=creator.Fitness)"
   ]
  },
  {
   "cell_type": "markdown",
   "metadata": {},
   "source": [
    "## correct indivuduals"
   ]
  },
  {
   "cell_type": "code",
   "execution_count": 5,
   "metadata": {
    "scrolled": false
   },
   "outputs": [
    {
     "name": "stdout",
     "output_type": "stream",
     "text": [
      "gen\tnew\tmin\tmax \tavg   \tstd    \n",
      "0  \t100\t25 \t1861\t822.88\t378.658\n",
      "1  \t99 \t415\t2156\t1135.9\t342.184\n",
      "2  \t99 \t337\t2156\t1289.65\t339.705\n",
      "3  \t99 \t730\t2438\t1547.03\t349.086\n",
      "4  \t99 \t709\t2561\t1825.09\t348.735\n",
      "5  \t99 \t1002\t2561\t2007.3 \t309.432\n",
      "6  \t99 \t1445\t2812\t2178.89\t246.062\n",
      "7  \t99 \t1655\t2812\t2274.67\t255.676\n",
      "8  \t99 \t1540\t2812\t2387.73\t231.262\n",
      "9  \t99 \t1444\t2895\t2450.07\t240.717\n",
      "10 \t99 \t1798\t2895\t2571.18\t224.893\n",
      "11 \t99 \t1850\t2895\t2682   \t192.571\n",
      "12 \t99 \t1634\t2895\t2785.01\t177.812\n",
      "13 \t99 \t2143\t2895\t2787.88\t177.751\n",
      "14 \t99 \t963 \t2895\t2840.63\t238.671\n",
      "15 \t99 \t1823\t2895\t2878.44\t113.857\n",
      "16 \t99 \t1772\t2895\t2883.77\t111.737\n",
      "17 \t99 \t2162\t2895\t2887.67\t72.9326\n",
      "18 \t99 \t1380\t2895\t2869.55\t166.76 \n",
      "19 \t99 \t2268\t2895\t2882.95\t84.4211\n",
      "20 \t99 \t2407\t2895\t2883.15\t69.8291\n",
      "21 \t99 \t1394\t2895\t2879.99\t149.348\n",
      "22 \t99 \t1567\t2895\t2875.25\t140.087\n",
      "23 \t99 \t1929\t2895\t2866.68\t144.172\n",
      "24 \t99 \t1538\t2895\t2858.28\t188.346\n",
      "25 \t99 \t1070\t2895\t2847.06\t257.531\n",
      "26 \t99 \t1790\t2895\t2871.37\t140.354\n",
      "27 \t99 \t1851\t2895\t2881.22\t108.743\n",
      "28 \t99 \t1353\t2945\t2864.48\t177.73 \n",
      "29 \t99 \t2264\t2945\t2884.11\t82.0752\n",
      "30 \t99 \t1624\t2945\t2856.82\t163.935\n",
      "31 \t99 \t2590\t2945\t2888.91\t76.8289\n",
      "32 \t99 \t2341\t2945\t2910.49\t94.5933\n",
      "33 \t99 \t1890\t2945\t2916.15\t140.757\n",
      "34 \t99 \t2208\t2945\t2924.53\t113.394\n",
      "35 \t99 \t1765\t2945\t2923.35\t135.303\n",
      "36 \t99 \t2495\t2945\t2935.09\t58.3202\n",
      "37 \t99 \t1778\t2945\t2926.08\t136.078\n",
      "38 \t99 \t2068\t2945\t2927.17\t118.798\n",
      "39 \t99 \t2308\t2945\t2926.1 \t98.0223\n",
      "40 \t99 \t1362\t2945\t2913.2 \t200.1  \n",
      "41 \t99 \t1538\t2955\t2931.03\t140.008\n",
      "42 \t99 \t2020\t2955\t2909.33\t161.405\n",
      "43 \t99 \t1742\t2955\t2886.24\t206.174\n",
      "44 \t99 \t1794\t2955\t2899.73\t166.631\n",
      "45 \t99 \t1691\t2955\t2854.15\t222.394\n",
      "46 \t99 \t2457\t2955\t2896.22\t145.111\n",
      "47 \t99 \t1359\t2955\t2910.81\t212.029\n",
      "48 \t99 \t2955\t2955\t2955   \t0      \n",
      "49 \t99 \t1490\t2955\t2930.27\t158.014\n",
      "50 \t99 \t2164\t2955\t2928.47\t119.944\n",
      "51 \t99 \t1454\t2955\t2908.66\t227.369\n",
      "52 \t99 \t1802\t2955\t2933.78\t149.109\n",
      "53 \t99 \t2650\t2955\t2947.51\t43.2704\n",
      "54 \t99 \t1872\t2955\t2932.95\t137.706\n",
      "55 \t99 \t2244\t2955\t2932.71\t114.791\n",
      "56 \t99 \t2458\t2955\t2947.56\t54.9984\n",
      "57 \t99 \t1600\t2955\t2917.37\t209.522\n",
      "58 \t99 \t1641\t2955\t2919.07\t191.398\n",
      "59 \t99 \t1774\t2955\t2936.89\t125.724\n",
      "60 \t99 \t1428\t2955\t2909.82\t201.804\n",
      "61 \t99 \t2342\t2955\t2933.29\t103.027\n",
      "62 \t99 \t1577\t2955\t2919.1 \t180.028\n",
      "63 \t99 \t2955\t2955\t2955   \t0      \n",
      "64 \t99 \t1412\t2955\t2911.99\t225.645\n",
      "65 \t99 \t2048\t2955\t2933.5 \t126.771\n",
      "66 \t99 \t1853\t2955\t2939.48\t118.018\n",
      "67 \t99 \t1757\t2955\t2908.92\t183.806\n",
      "68 \t99 \t1924\t2955\t2920.35\t149.917\n",
      "69 \t99 \t1568\t2955\t2917.09\t197.665\n",
      "70 \t99 \t1882\t2955\t2931.82\t127.918\n",
      "71 \t99 \t1865\t2955\t2914.14\t185.672\n",
      "72 \t99 \t1651\t2955\t2920.25\t181.548\n",
      "73 \t99 \t1761\t2955\t2925.7 \t151.296\n",
      "74 \t99 \t2458\t2955\t2945.09\t59.9338\n",
      "75 \t99 \t2458\t2955\t2940.56\t82.1989\n",
      "76 \t99 \t1964\t2955\t2925.19\t143.66 \n",
      "77 \t99 \t1676\t2955\t2910.97\t201.89 \n",
      "78 \t99 \t1444\t2955\t2913.77\t193.554\n",
      "79 \t99 \t1780\t2955\t2913.95\t179.178\n",
      "80 \t99 \t2505\t2955\t2950.5 \t44.7744\n",
      "81 \t99 \t1321\t2955\t2911.79\t209.298\n",
      "82 \t99 \t1295\t2955\t2907.88\t240.144\n",
      "83 \t99 \t2154\t2955\t2946.99\t79.6985\n",
      "84 \t99 \t2106\t2955\t2937.25\t115.464\n",
      "85 \t99 \t2161\t2955\t2942.91\t88.7719\n",
      "86 \t99 \t1958\t2955\t2925.42\t150.025\n",
      "87 \t99 \t1142\t2955\t2928.1 \t199.593\n",
      "88 \t99 \t1723\t2955\t2939.77\t125.671\n",
      "89 \t99 \t2955\t2955\t2955   \t0      \n",
      "90 \t99 \t1402\t2955\t2907.74\t237.288\n",
      "91 \t99 \t2018\t2955\t2927.85\t138.336\n",
      "92 \t99 \t1706\t2955\t2930.04\t149.975\n",
      "93 \t99 \t1918\t2955\t2909.4 \t180.466\n",
      "94 \t99 \t1768\t2955\t2938.49\t126.373\n",
      "95 \t99 \t1877\t2955\t2931.63\t141.139\n",
      "96 \t99 \t1656\t2955\t2925.32\t157.151\n",
      "97 \t99 \t1437\t2955\t2912.3 \t197.603\n",
      "98 \t99 \t1020\t2955\t2909.85\t262.362\n",
      "99 \t99 \t1683\t2955\t2937.78\t133.822\n",
      "100\t99 \t1444\t2955\t2900.45\t235.766\n",
      "101\t99 \t1747\t2955\t2908.02\t210.383\n",
      "102\t99 \t1274\t2955\t2897.6 \t238.892\n",
      "103\t99 \t1941\t2955\t2936.63\t129.297\n",
      "104\t99 \t2505\t2955\t2949.6 \t45.5724\n",
      "105\t99 \t1648\t2955\t2931.36\t148.965\n",
      "106\t99 \t2042\t2955\t2932.89\t116.643\n",
      "107\t99 \t2568\t2955\t2947.9 \t49.9056\n",
      "108\t99 \t1641\t2955\t2928.88\t156.318\n",
      "109\t99 \t2569\t2955\t2948.67\t45.387 \n",
      "110\t99 \t1627\t2955\t2908.08\t214.91 \n",
      "111\t99 \t2505\t2955\t2947.11\t55.7849\n",
      "112\t99 \t2217\t2955\t2925.18\t126.362\n",
      "113\t99 \t1796\t2955\t2938   \t119.378\n",
      "114\t99 \t1826\t2955\t2930.26\t148.489\n",
      "115\t99 \t1622\t2955\t2939.2 \t134.645\n",
      "116\t99 \t2491\t2955\t2950.36\t46.1674\n",
      "117\t99 \t1434\t2955\t2882.61\t270.338\n",
      "118\t99 \t2485\t2955\t2942.86\t70.3632\n",
      "119\t99 \t1825\t2955\t2926.75\t144.494\n",
      "120\t99 \t2659\t2955\t2949.5 \t38.6144\n",
      "121\t99 \t1700\t2955\t2915.99\t184.082\n",
      "122\t99 \t961 \t2955\t2925.79\t212.385\n",
      "123\t99 \t1263\t2955\t2912.73\t226.674\n",
      "124\t99 \t2505\t2955\t2941.49\t64.2216\n",
      "125\t99 \t2028\t2955\t2939.59\t110.117\n",
      "126\t99 \t1888\t2955\t2930.45\t144.531\n",
      "127\t99 \t1757\t2955\t2901.11\t192.636\n",
      "128\t99 \t1937\t2955\t2918.19\t151.098\n",
      "129\t99 \t1921\t2955\t2943.76\t103.181\n",
      "130\t99 \t1424\t2955\t2939.69\t152.333\n",
      "131\t99 \t989 \t2955\t2882.71\t290.362\n",
      "132\t99 \t1978\t2955\t2945.23\t97.2103\n",
      "133\t99 \t1812\t2955\t2925.14\t167.97 \n",
      "134\t99 \t1917\t2955\t2939.65\t114.057\n",
      "135\t99 \t1225\t2955\t2908.62\t243.637\n",
      "136\t99 \t2107\t2955\t2933.91\t110.859\n",
      "137\t99 \t2041\t2955\t2925.12\t141.422\n",
      "138\t99 \t1905\t2955\t2931.38\t146.758\n",
      "[0, 1, 0, 0, 1, 1, 0, 1, 0, 0, 0, 0, 0, 0, 1, 0, 0, 0, 0, 0, 1, 0, 0, 1, 0, 0, 1, 0, 0, 0, 0, 0, 0, 0, 0, 0, 0, 0, 0, 0]\n",
      "[0, 0, 0, 0, 1, 1, 0, 1, 0, 0, 0, 1, 0, 0, 1, 0, 0, 0, 0, 0, 0, 0, 0, 1, 1, 0, 1, 0, 0, 0, 0, 0, 0, 0, 0, 0, 0, 0, 0, 0]\n"
     ]
    },
    {
     "data": {
      "image/png": "[encoded data removed]",
      "text/plain": [
       "<matplotlib.figure.Figure at 0x7fd3d0dc7320>"
      ]
     },
     "metadata": {},
     "output_type": "display_data"
    }
   ],
   "source": [
    "N_POP = 100\n",
    "CXPB = 0.6\n",
    "INDPB = 0.001\n",
    "\n",
    "toolbox = base.Toolbox()\n",
    "toolbox.register('attr_item', random.randint, 0, 1)\n",
    "toolbox.register('individual', tools.initRepeat, creator.Individual, toolbox.attr_item, instance.name[0])\n",
    "toolbox.register('population', tools.initRepeat, list, toolbox.individual)\n",
    "toolbox.register('mate', tools.cxTwoPoint)\n",
    "toolbox.register('mutate', tools.mutFlipBit, indpb=INDPB)\n",
    "toolbox.register('select', tools.selTournament, tournsize=3)\n",
    "toolbox.register('evaluate', ga.evaluate_correction, weights=instance['weights'],\n",
    "                 values=instance['values'], m=instance['m'])\n",
    "\n",
    "population = toolbox.population(n=N_POP)\n",
    "population, logbook, halloffame = ga.genetic_algorithm(\n",
    "    population, toolbox, early_stop=(1, 50), cxpb=CXPB, mutpb=1, elitism=1, verbose=True\n",
    ")\n",
    "\n",
    "plot_ga_progress(logbook, instance['value'])\n",
    "\n",
    "best = halloffame[0]\n",
    "print(best)\n",
    "print(instance['solution'])\n",
    "c_apx = best.fitness.values[0]\n",
    "instance['value'], c_apx, relative_error(instance['value'], c_apx)\n",
    "\n",
    "pyplot.savefig('report/evolution.pdf')"
   ]
  },
  {
   "cell_type": "markdown",
   "metadata": {},
   "source": [
    "## penalization"
   ]
  },
  {
   "cell_type": "code",
   "execution_count": 6,
   "metadata": {
    "scrolled": false
   },
   "outputs": [
    {
     "name": "stdout",
     "output_type": "stream",
     "text": [
      "[0, 1, 0, 0, 1, 1, 0, 1, 0, 0, 0, 0, 0, 0, 1, 0, 0, 0, 0, 0, 1, 0, 0, 1, 0, 0, 1, 0, 0, 0, 0, 0, 0, 0, 0, 0, 0, 0, 0, 0]\n",
      "[0, 0, 0, 0, 1, 1, 0, 1, 0, 0, 0, 1, 0, 0, 1, 0, 0, 0, 0, 0, 0, 0, 0, 1, 1, 0, 1, 0, 0, 0, 0, 0, 0, 0, 0, 0, 0, 0, 0, 0]\n"
     ]
    },
    {
     "data": {
      "text/plain": [
       "(3115, 2945.0, 0.054574638844301769)"
      ]
     },
     "execution_count": 6,
     "metadata": {},
     "output_type": "execute_result"
    },
    {
     "data": {
      "image/png": "[encoded data removed]",
      "text/plain": [
       "<matplotlib.figure.Figure at 0x7fd3d0df0cc0>"
      ]
     },
     "metadata": {},
     "output_type": "display_data"
    }
   ],
   "source": [
    "N_POP = 100\n",
    "CXPB = 0.6\n",
    "INDPB = 0.001\n",
    "\n",
    "toolbox = base.Toolbox()\n",
    "toolbox.register('attr_item', random.randint, 0, 1)\n",
    "toolbox.register('individual', tools.initRepeat, creator.Individual, toolbox.attr_item, instance.name[0])\n",
    "toolbox.register('population', tools.initRepeat, list, toolbox.individual)\n",
    "toolbox.register('mate', tools.cxTwoPoint)\n",
    "toolbox.register('mutate', tools.mutFlipBit, indpb=INDPB)\n",
    "toolbox.register('select', tools.selRoulette)\n",
    "toolbox.register('evaluate', ga.evaluate_penalization, weights=instance['weights'],\n",
    "                 values=instance['values'], m=instance['m'])\n",
    "\n",
    "\n",
    "population = toolbox.population(n=N_POP)\n",
    "population, logbook, halloffame = ga.genetic_algorithm(\n",
    "    population, toolbox, early_stop=(1, 50), cxpb=CXPB, mutpb=1, elitism=1\n",
    ")\n",
    "\n",
    "plot_ga_progress(logbook, instance['value'])\n",
    "print(best)\n",
    "print(instance['solution'])\n",
    "c_apx = halloffame[0].fitness.values[0]\n",
    "instance['value'], c_apx, relative_error(instance['value'], c_apx)"
   ]
  }
 ],
 "metadata": {
  "kernelspec": {
   "display_name": "Python 3",
   "language": "python",
   "name": "python3"
  },
  "language_info": {
   "codemirror_mode": {
    "name": "ipython",
    "version": 3
   },
   "file_extension": ".py",
   "mimetype": "text/x-python",
   "name": "python",
   "nbconvert_exporter": "python",
   "pygments_lexer": "ipython3",
   "version": "3.6.3"
  }
 },
 "nbformat": 4,
 "nbformat_minor": 2
}
